{
 "cells": [
  {
   "cell_type": "markdown",
   "id": "9344c4c0",
   "metadata": {},
   "source": [
    "## Pandas"
   ]
  },
  {
   "cell_type": "code",
   "execution_count": 16,
   "id": "e9fc44f0",
   "metadata": {},
   "outputs": [],
   "source": [
    "import pandas as pd  \n",
    "import numpy as np  "
   ]
  },
  {
   "cell_type": "code",
   "execution_count": 17,
   "id": "5032054d",
   "metadata": {},
   "outputs": [
    {
     "name": "stdout",
     "output_type": "stream",
     "text": [
      "                  Nota  Temporadas  Episodios\n",
      "Ted Lasso            9           4         34\n",
      "Parks Recreation     9           7        125\n",
      "Vikings              9           6         89\n",
      "Suits                8           9        134\n",
      "Breaking bad        10           5         62\n",
      "########################################\n"
     ]
    }
   ],
   "source": [
    "indices = [\"Ted Lasso\",\"Parks Recreation\",\"Vikings\", \"Suits\", \"Breaking bad\"]\n",
    "colunas = [\"Nota\", \"Temporadas\", \"Episodios\"]\n",
    "dados = [[9, 4, 34], [9, 7, 125], [9, 6, 89], [8, 9, 134], [10, 5, 62]]\n",
    "\n",
    "df = pd.DataFrame(dados, index=indices, columns=colunas)\n",
    "print(df)\n",
    "print(\"#\"*40)"
   ]
  },
  {
   "cell_type": "code",
   "execution_count": 18,
   "id": "d799a6e5",
   "metadata": {},
   "outputs": [
    {
     "name": "stdout",
     "output_type": "stream",
     "text": [
      "Nota:\n",
      "Ted Lasso            9\n",
      "Parks Recreation     9\n",
      "Vikings              9\n",
      "Suits                8\n",
      "Breaking bad        10\n",
      "Name: Nota, dtype: int64 \n",
      "\n",
      "Temporadas:\n",
      "Ted Lasso           4\n",
      "Parks Recreation    7\n",
      "Vikings             6\n",
      "Suits               9\n",
      "Breaking bad        5\n",
      "Name: Temporadas, dtype: int64 \n",
      "\n",
      "Episodios:\n",
      "Ted Lasso            34\n",
      "Parks Recreation    125\n",
      "Vikings              89\n",
      "Suits               134\n",
      "Breaking bad         62\n",
      "Name: Episodios, dtype: int64 \n",
      "\n"
     ]
    }
   ],
   "source": [
    "print(\"Nota:\")\n",
    "print(df[\"Nota\"], \"\\n\")\n",
    "print(\"Temporadas:\")\n",
    "print(df[\"Temporadas\"], \"\\n\")\n",
    "print(\"Episodios:\")\n",
    "print(df[\"Episodios\"], \"\\n\")"
   ]
  },
  {
   "cell_type": "code",
   "execution_count": 19,
   "id": "17340283",
   "metadata": {},
   "outputs": [
    {
     "name": "stdout",
     "output_type": "stream",
     "text": [
      "Nota e episodios:\n",
      "                  Nota  Episodios\n",
      "Ted Lasso            9         34\n",
      "Parks Recreation     9        125\n",
      "Vikings              9         89\n",
      "Suits                8        134\n",
      "Breaking bad        10         62 \n",
      "\n",
      "Suits\n",
      "Nota            8\n",
      "Temporadas      9\n",
      "Episodios     134\n",
      "Name: Suits, dtype: int64 \n",
      "\n",
      "Suits\n",
      "Nota            8\n",
      "Temporadas      9\n",
      "Episodios     134\n",
      "Name: Suits, dtype: int64 \n",
      "\n",
      "Nota de Suits: 8\n",
      "Tipo de Nota de Suits: <class 'numpy.int64'>\n",
      "Nota de Suits: 8\n",
      "Nota de Suits: 8 \n",
      "\n"
     ]
    }
   ],
   "source": [
    "print(\"Nota e episodios:\")\n",
    "print(df[[\"Nota\", \"Episodios\"]], \"\\n\")\n",
    "\n",
    "print(\"Suits\")\n",
    "print(df.loc[\"Suits\"], \"\\n\")\n",
    "\n",
    "print(\"Suits\")\n",
    "print(df.iloc[3], \"\\n\")\n",
    "\n",
    "print(\"Nota de Suits:\", df.loc[\"Suits\", \"Nota\"])\n",
    "print(\"Tipo de Nota de Suits:\", type(df.loc[\"Suits\", \"Nota\"])) # vem do numpy\n",
    "\n",
    "#outras maneiras\n",
    "\n",
    "print(\"Nota de Suits:\", df.iloc[3, 0])\n",
    "print(\"Nota de Suits:\", df.at[\"Suits\", \"Nota\"], \"\\n\")\n"
   ]
  },
  {
   "cell_type": "code",
   "execution_count": 20,
   "id": "e8cf9c67",
   "metadata": {},
   "outputs": [
    {
     "name": "stdout",
     "output_type": "stream",
     "text": [
      "Ted Lasso e Parks Recreation, Nota e Temporada\n",
      "                  Nota  Temporadas\n",
      "Ted Lasso            9           4\n",
      "Parks Recreation     9           7\n",
      "Usando Slice\n",
      "                  Temporadas  Episodios\n",
      "Parks Recreation           7        125\n",
      "Vikings                    6         89\n",
      "Suits                      9        134\n",
      "                  Nota  Temporadas\n",
      "Ted Lasso            9           4\n",
      "Parks Recreation     9           7\n",
      "Vikings              9           6\n",
      "Suits                8           9\n",
      "Breaking bad        10           5\n"
     ]
    }
   ],
   "source": [
    "print(\"Ted Lasso e Parks Recreation, Nota e Temporada\")\n",
    "print(df.loc[[\"Ted Lasso\", \"Parks Recreation\"], [\"Nota\", \"Temporadas\"]])\n",
    "\n",
    "print(\"Usando Slice\")\n",
    "print(df.loc[\"Parks Recreation\":\"Suits\", \"Temporadas\":])\n",
    "print(df.loc[:, [\"Nota\", \"Temporadas\"]])"
   ]
  },
  {
   "cell_type": "code",
   "execution_count": 21,
   "id": "2262975a",
   "metadata": {},
   "outputs": [
    {
     "name": "stdout",
     "output_type": "stream",
     "text": [
      "                  Nota  Temporadas  Episodios\n",
      "Ted Lasso            9           4         34\n",
      "Parks Recreation     9           7        125\n",
      "              Nota  Temporadas  Episodios\n",
      "Suits            8           9        134\n",
      "Breaking bad    10           5         62\n",
      "\n",
      "\n",
      "Valores Unicos de Nota \n",
      "\n",
      "[ 9  8 10]\n",
      "3\n",
      "Contagem \n",
      "\n",
      "5\n",
      "Contagem de Valores \n",
      "\n",
      "Nota\n",
      "9     3\n",
      "8     1\n",
      "10    1\n",
      "Name: count, dtype: int64\n"
     ]
    }
   ],
   "source": [
    "#Operacoes\n",
    "\n",
    "print(df.head(2))\n",
    "print(df.tail(2))\n",
    "print(\"\\n\")\n",
    "\n",
    "print(\"Valores Unicos de Nota \\n\")\n",
    "print(df[\"Nota\"].unique())\n",
    "print(df[\"Nota\"].nunique())\n",
    "\n",
    "print(\"Contagem \\n\")\n",
    "print(df[\"Nota\"].count())\n",
    "\n",
    "print(\"Contagem de Valores \\n\")\n",
    "print(df[\"Nota\"].value_counts())\n",
    "######################################\n"
   ]
  },
  {
   "cell_type": "code",
   "execution_count": 22,
   "id": "610d395e",
   "metadata": {},
   "outputs": [
    {
     "name": "stdout",
     "output_type": "stream",
     "text": [
      "Valores Unicos de Nota \n",
      "\n",
      "[ 9  5  8 10]\n",
      "4\n",
      "Contagem \n",
      "\n",
      "5\n",
      "Contagem de Valores \n",
      "\n",
      "Nota\n",
      "9     2\n",
      "5     1\n",
      "8     1\n",
      "10    1\n",
      "Name: count, dtype: int64\n"
     ]
    }
   ],
   "source": [
    "df.at[\"Vikings\", \"Nota\"] = 5\n",
    "\n",
    "print(\"Valores Unicos de Nota \\n\")\n",
    "print(df[\"Nota\"].unique())\n",
    "print(df[\"Nota\"].nunique())\n",
    "\n",
    "print(\"Contagem \\n\")\n",
    "print(df[\"Nota\"].count())\n",
    "\n",
    "print(\"Contagem de Valores \\n\")\n",
    "print(df[\"Nota\"].value_counts())"
   ]
  },
  {
   "cell_type": "code",
   "execution_count": 23,
   "id": "4c42d91b",
   "metadata": {},
   "outputs": [
    {
     "name": "stdout",
     "output_type": "stream",
     "text": [
      "Nota minima nos dados: 5\n",
      "Nota maxima nos dados 10\n",
      "Media das notas dos alunos 8.2\n",
      "Mediana das notas dos dados 9.0\n"
     ]
    }
   ],
   "source": [
    "print(\"Nota minima nos dados:\", df[\"Nota\"].min())\n",
    "print(\"Nota maxima nos dados\", df[\"Nota\"].max())\n",
    "print(\"Media das notas dos alunos\", df[\"Nota\"].mean())\n",
    "print(\"Mediana das notas dos dados\", df[\"Nota\"].median())\n"
   ]
  },
  {
   "cell_type": "code",
   "execution_count": 24,
   "id": "40252c0a",
   "metadata": {},
   "outputs": [
    {
     "name": "stdout",
     "output_type": "stream",
     "text": [
      "Index(['Nota', 'Temporadas', 'Episodios'], dtype='object')\n",
      "['Nota', 'Temporadas', 'Episodios']\n",
      "['Nota' 'Temporadas' 'Episodios']\n"
     ]
    }
   ],
   "source": [
    "print(df.columns)\n",
    "print(df.columns.to_list())\n",
    "print(df.columns.to_numpy())"
   ]
  },
  {
   "cell_type": "code",
   "execution_count": 25,
   "id": "aafb09bc",
   "metadata": {},
   "outputs": [
    {
     "name": "stdout",
     "output_type": "stream",
     "text": [
      "Ted Lasso           4.5\n",
      "Parks Recreation    4.5\n",
      "Vikings             2.5\n",
      "Suits               4.0\n",
      "Breaking bad        5.0\n",
      "Name: Coluna Extra, dtype: float64\n",
      "                  Nota  Temporadas  Episodios\n",
      "Ted Lasso            9           4         34\n",
      "Parks Recreation     9           7        125\n",
      "Vikings              5           6         89\n",
      "Suits                8           9        134\n",
      "Breaking bad        10           5         62\n",
      "                  Nota  Temporadas  Episodios\n",
      "Ted Lasso            9           4         34\n",
      "Parks Recreation     9           7        125\n",
      "Suits                8           9        134\n",
      "Breaking bad        10           5         62\n"
     ]
    }
   ],
   "source": [
    "df[\"Coluna Extra\"] = df[\"Nota\"]/2\n",
    "print(df[\"Coluna Extra\"])\n",
    "\n",
    "df.drop(\"Coluna Extra\", axis = 1, inplace=True)\n",
    "print(df)\n",
    "\n",
    "df.drop(\"Vikings\", inplace=True)\n",
    "print(df)"
   ]
  },
  {
   "cell_type": "code",
   "execution_count": 26,
   "id": "0fa1d325",
   "metadata": {},
   "outputs": [
    {
     "name": "stdout",
     "output_type": "stream",
     "text": [
      "Ted Lasso            True\n",
      "Parks Recreation     True\n",
      "Suits               False\n",
      "Breaking bad         True\n",
      "Name: Nota, dtype: bool\n",
      "                  Nota  Temporadas  Episodios\n",
      "Parks Recreation     9           7        125\n"
     ]
    }
   ],
   "source": [
    "print(df[\"Nota\"]>8)\n",
    "print(df[(df[\"Nota\"]>8) & (df[\"Temporadas\"]>6)])"
   ]
  },
  {
   "cell_type": "code",
   "execution_count": 30,
   "id": "aa36d150",
   "metadata": {},
   "outputs": [
    {
     "name": "stdout",
     "output_type": "stream",
     "text": [
      "           nome  idade  matricula\n",
      "Aluno 1  Nome 1     15      100.0\n",
      "Aluno 2  Nome 2     21        NaN\n",
      "Aluno 3  Nome 3     27       43.0\n",
      "          nome  idade  matricula\n",
      "Aluno 1  False  False      False\n",
      "Aluno 2  False  False       True\n",
      "Aluno 3  False  False      False\n",
      "\n",
      "\n",
      "Aluno 1    False\n",
      "Aluno 2     True\n",
      "Aluno 3    False\n",
      "Name: matricula, dtype: bool\n",
      "\n",
      "\n",
      "           nome  idade  matricula\n",
      "Aluno 2  Nome 2     21        NaN\n",
      "           nome  idade  matricula\n",
      "Aluno 1  Nome 1     15      100.0\n",
      "Aluno 2  Nome 2     21        NaN\n",
      "Aluno 3  Nome 3     27       43.0\n"
     ]
    }
   ],
   "source": [
    "indices = [\"Aluno 1\", \"Aluno 2\", \"Aluno 3\"]\n",
    "colunas = [\"nome\", \"idade\", \"matricula\"]\n",
    "dados = [[\"Nome 1\", 15, 100], [\"Nome 2\", 21, np.nan], [\"Nome 3\", 27, 43]]\n",
    "df = pd.DataFrame(dados, index=indices, columns=colunas)\n",
    "print(df)\n",
    "print(df.isnull())\n",
    "print(\"\\n\\n\", df[\"matricula\"].isnull(), sep = \"\")\n",
    "print(\"\\n\\n\", df[df[\"matricula\"].isnull()], sep = \"\")\n",
    "\n",
    "df.dropna(thresh=1, inplace=True)\n",
    "print(df)"
   ]
  },
  {
   "cell_type": "code",
   "execution_count": null,
   "id": "f92f41f3",
   "metadata": {},
   "outputs": [],
   "source": []
  }
 ],
 "metadata": {
  "kernelspec": {
   "display_name": ".venv (3.13.3)",
   "language": "python",
   "name": "python3"
  },
  "language_info": {
   "codemirror_mode": {
    "name": "ipython",
    "version": 3
   },
   "file_extension": ".py",
   "mimetype": "text/x-python",
   "name": "python",
   "nbconvert_exporter": "python",
   "pygments_lexer": "ipython3",
   "version": "3.13.3"
  }
 },
 "nbformat": 4,
 "nbformat_minor": 5
}
