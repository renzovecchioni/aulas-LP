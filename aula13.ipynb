{
 "cells": [
  {
   "cell_type": "code",
   "execution_count": 4,
   "id": "645acd58",
   "metadata": {},
   "outputs": [],
   "source": [
    "import inspect\n",
    "from functools import wraps"
   ]
  },
  {
   "cell_type": "code",
   "execution_count": 5,
   "id": "2b0b7f04",
   "metadata": {},
   "outputs": [],
   "source": [
    "def enforce_types(func):\n",
    "    assinatura = inspect.signature(func)\n",
    "    print(\"Assinatura: \", str(assinatura))\n",
    "\n",
    "    anotacoes = func.__annotations__\n",
    "    print(\"Anotacoes:\", anotacoes)\n",
    "\n",
    "    @wraps(func)\n",
    "    def wrapper(*args, **kwargs):\n",
    "        bound = assinatura.bind(*args, **kwargs)\n",
    "        bound.apply_defaults()\n",
    "        print(\"Bound:\", str(bound))\n",
    "        print(\"Bound Arguments:\", str(bound.arguments))\n",
    "        for nome_param, valor in bound.arguments.items():\n",
    "            if nome_param in anotacoes:\n",
    "                tipo_esperado = anotacoes[nome_param]\n",
    "                if not isinstance(tipo_esperado, type):\n",
    "                    raise TypeError(f\"Anotacao para \\\"{nome_param}\\\" utiliza tipo nao suportado\")\n",
    "                if not isinstance(tipo_esperado, type):\n",
    "                    raise TypeError(f\"Argumento\\\"{nome_param}\\\" esperado: \\\"{tipo_esperado!r}\\\", argumento recebido: \\\"{type(valor)!r}\\\"\")\n",
    "        resultado = func(*args, **kwargs)\n",
    "\n",
    "        if \"return\" in anotacoes:\n",
    "            tipo_retorno = anotacoes[\"return\"]\n",
    "            if not isinstance(tipo_retorno, type):\n",
    "                raise TypeError(\"Anotacao de retorno utiliza tipo nao suportado\")\n",
    "            if not isinstance(resultado, tipo_retorno):\n",
    "                raise TypeError(\"Argumento esperado nao suportado\")\n",
    "\n",
    "        return resultado\n",
    "    return wrapper"
   ]
  },
  {
   "cell_type": "markdown",
   "id": "143afe3b",
   "metadata": {},
   "source": [
    "#### driver code"
   ]
  },
  {
   "cell_type": "code",
   "execution_count": 6,
   "id": "740a379d",
   "metadata": {},
   "outputs": [
    {
     "name": "stdout",
     "output_type": "stream",
     "text": [
      "Assinatura:  (texto_esquerda: str, texto_direita: str) -> str\n",
      "Anotacoes: {'texto_esquerda': <class 'str'>, 'texto_direita': <class 'str'>, 'return': <class 'str'>}\n",
      "Assinatura:  (base: float, altura: float) -> float\n",
      "Anotacoes: {'base': <class 'float'>, 'altura': <class 'float'>, 'return': <class 'float'>}\n",
      "Bound: <BoundArguments (texto_esquerda='Eu adoro', texto_direita=' a EMAP')>\n",
      "Bound Arguments: {'texto_esquerda': 'Eu adoro', 'texto_direita': ' a EMAP'}\n",
      "Eu adoro a EMAP\n",
      "Bound: <BoundArguments (base=3.0, altura=42.0)>\n",
      "Bound Arguments: {'base': 3.0, 'altura': 42.0}\n",
      "126.0\n"
     ]
    }
   ],
   "source": [
    "@enforce_types\n",
    "def concatena(texto_esquerda: str, texto_direita:str)->str:\n",
    "    return texto_esquerda+texto_direita\n",
    "\n",
    "@enforce_types\n",
    "def area_retangulo(base:float, altura:float)->float:\n",
    "    return base*altura\n",
    "\n",
    "print(concatena(\"Eu adoro\", \" a EMAP\"))\n",
    "print(area_retangulo(3.0, 42.0))"
   ]
  }
 ],
 "metadata": {
  "kernelspec": {
   "display_name": "base",
   "language": "python",
   "name": "python3"
  },
  "language_info": {
   "codemirror_mode": {
    "name": "ipython",
    "version": 3
   },
   "file_extension": ".py",
   "mimetype": "text/x-python",
   "name": "python",
   "nbconvert_exporter": "python",
   "pygments_lexer": "ipython3",
   "version": "3.13.5"
  }
 },
 "nbformat": 4,
 "nbformat_minor": 5
}
