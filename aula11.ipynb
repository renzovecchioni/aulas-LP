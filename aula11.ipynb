{
 "cells": [
  {
   "cell_type": "markdown",
   "id": "143ff5e3",
   "metadata": {},
   "source": [
    "## Aula de numpy"
   ]
  },
  {
   "cell_type": "code",
   "execution_count": 44,
   "id": "75af76fd",
   "metadata": {},
   "outputs": [],
   "source": [
    "import numpy as np "
   ]
  },
  {
   "cell_type": "code",
   "execution_count": 45,
   "id": "801571f2",
   "metadata": {},
   "outputs": [
    {
     "name": "stdout",
     "output_type": "stream",
     "text": [
      "versao numpy: 2.3.2\n"
     ]
    }
   ],
   "source": [
    "print(\"versao numpy:\", np.__version__)"
   ]
  },
  {
   "cell_type": "code",
   "execution_count": 46,
   "id": "c24fb7e7",
   "metadata": {},
   "outputs": [
    {
     "name": "stdout",
     "output_type": "stream",
     "text": [
      "Array 1: [1 2 3]\n",
      "Array 2:\n",
      " [[1 2 3]\n",
      " [4 5 6]]\n"
     ]
    }
   ],
   "source": [
    "array_1 = np.array([1,2,3])\n",
    "array_2 = np.array([[1,2,3],[4,5,6]])\n",
    "\n",
    "print(\"Array 1:\", array_1)\n",
    "print(\"Array 2:\\n\", array_2)"
   ]
  },
  {
   "cell_type": "markdown",
   "id": "21b26c60",
   "metadata": {},
   "source": [
    "### Propriedades dos NDarrays"
   ]
  },
  {
   "cell_type": "code",
   "execution_count": 47,
   "id": "5aabf78e",
   "metadata": {},
   "outputs": [
    {
     "name": "stdout",
     "output_type": "stream",
     "text": [
      "Formato (shape)\n",
      "1D (3,)\n",
      "2D (2, 3)\n",
      "Tamanho (size)\n",
      "1D 3\n",
      "2D 6\n",
      "Tipo dos dADOS (dtype)\n",
      "1D int64\n",
      "2D int64\n",
      "Numero de dimensoes (ndim)\n",
      "1D 1\n",
      "2D 2\n"
     ]
    }
   ],
   "source": [
    "print(\"Formato (shape)\")\n",
    "print(\"1D\", array_1.shape)\n",
    "print(\"2D\", array_2.shape)\n",
    "print(\"Tamanho (size)\")\n",
    "print(\"1D\", array_1.size)\n",
    "print(\"2D\", array_2.size)\n",
    "print(\"Tipo dos dADOS (dtype)\")\n",
    "print(\"1D\", array_1.dtype)\n",
    "print(\"2D\", array_2.dtype)\n",
    "print(\"Numero de dimensoes (ndim)\")\n",
    "print(\"1D\", array_1.ndim)\n",
    "print(\"2D\", array_2.ndim)"
   ]
  },
  {
   "cell_type": "markdown",
   "id": "df48cbe9",
   "metadata": {},
   "source": [
    "### Criacao de NDarrays"
   ]
  },
  {
   "cell_type": "code",
   "execution_count": 48,
   "id": "05308cc6",
   "metadata": {},
   "outputs": [
    {
     "name": "stdout",
     "output_type": "stream",
     "text": [
      "Zeros:\n",
      " [[0. 0. 0.]\n",
      " [0. 0. 0.]]\n",
      "Uns:\n",
      " [[1. 1. 1.]\n",
      " [1. 1. 1.]]\n",
      "Cheio:\n",
      " [[42 42 42 42 42]\n",
      " [42 42 42 42 42]\n",
      " [42 42 42 42 42]\n",
      " [42 42 42 42 42]\n",
      " [42 42 42 42 42]]\n",
      "ARange:\n",
      " [0 2 4 6 8]\n",
      "Linspace:\n",
      " [0.   0.25 0.5  0.75 1.  ]\n",
      "Random:\n",
      " [[0.48802765 0.94789376]\n",
      " [0.67514579 0.6178496 ]]\n"
     ]
    }
   ],
   "source": [
    "print(\"Zeros:\\n\", np.zeros((2,3)))\n",
    "print(\"Uns:\\n\", np.ones((2,3)))\n",
    "print(\"Cheio:\\n\", np.full((5,5), 42))\n",
    "print(\"ARange:\\n\", np.arange(0,10,2))\n",
    "print(\"Linspace:\\n\", np.linspace(0,1,5))\n",
    "print(\"Random:\\n\", np.random.rand(2,2))"
   ]
  },
  {
   "cell_type": "code",
   "execution_count": 49,
   "id": "b1a2edfa",
   "metadata": {},
   "outputs": [
    {
     "name": "stdout",
     "output_type": "stream",
     "text": [
      "[[10 20 30]\n",
      " [40 50 60]\n",
      " [70 80 90]]\n",
      "Elemento da Linha 1, coluna 2: 20\n",
      "Primeira linha: [10 20 30]\n",
      "SeguNDA COLUNA : [20 50 80]\n",
      "Submatriz linhas 0-1, colunas 1-2:\n",
      " [[20 30]\n",
      " [50 60]]\n",
      "Ultima linha [70 80 90]\n",
      "Ultima coluna: [30 60 90]\n"
     ]
    }
   ],
   "source": [
    "matriz = np.array([[10,20,30],[40,50,60],[70,80,90]])\n",
    "\n",
    "print(matriz)\n",
    "print(\"Elemento da Linha 1, coluna 2:\", matriz[0,1])\n",
    "print(\"Primeira linha:\", matriz[0])\n",
    "print(\"SeguNDA COLUNA :\", matriz[:,1])\n",
    "print(\"Submatriz linhas 0-1, colunas 1-2:\\n\", matriz[0:2, 1:3])\n",
    "print(\"Ultima linha\", matriz[-1])\n",
    "print('Ultima coluna:', matriz[:, -1])\n"
   ]
  },
  {
   "cell_type": "markdown",
   "id": "1a0fe3cd",
   "metadata": {},
   "source": [
    "### Operacoes em NDarrays"
   ]
  },
  {
   "cell_type": "code",
   "execution_count": 50,
   "id": "bbf956fe",
   "metadata": {},
   "outputs": [
    {
     "name": "stdout",
     "output_type": "stream",
     "text": [
      "Soma elemento a elemento:\n",
      " [[ 6  8]\n",
      " [10 12]]\n",
      "Multiplica elemento a elemento:\n",
      " [[ 5 12]\n",
      " [21 32]]\n",
      "Produto matricial (dot product)\n",
      " [[19 22]\n",
      " [43 50]]\n",
      "Transposta de X:\n",
      " [[1 3]\n",
      " [2 4]]\n",
      "Soma total dos elementos\n",
      " 10\n",
      "Soma por colunas de x:\n",
      " [4 6]\n",
      "Soma por linhas de x:\n",
      " [3 7]\n"
     ]
    }
   ],
   "source": [
    "x = np.array([[1,2],[3,4]])\n",
    "y = np.array([[5,6],[7,8]])\n",
    "\n",
    "print(\"Soma elemento a elemento:\\n\", x+y)\n",
    "print(\"Multiplica elemento a elemento:\\n\", x*y)\n",
    "print(\"Produto matricial (dot product)\\n\", x@y)\n",
    "print(\"Transposta de X:\\n\", x.T )\n",
    "print(\"Soma total dos elementos\\n\", np.sum(x))\n",
    "print(\"Soma por colunas de x:\\n\", np.sum(x, axis=0))\n",
    "print(\"Soma por linhas de x:\\n\", np.sum(x, axis=1))"
   ]
  },
  {
   "cell_type": "markdown",
   "id": "780cdce2",
   "metadata": {},
   "source": [
    "### Estatistica em NDarrays"
   ]
  },
  {
   "cell_type": "code",
   "execution_count": null,
   "id": "b98e0735",
   "metadata": {},
   "outputs": [
    {
     "ename": "",
     "evalue": "",
     "output_type": "error",
     "traceback": [
      "\u001b[1;31mFalha ao iniciar o Kernel. \n",
      "\u001b[1;31mNão é possível iniciar o Kernel \".venv (3.13.3) (Python 3.13.3)\" devido a um tempo limite aguardando as portas serem usadas. \n",
      "\u001b[1;31mConsulte o <a href='command:jupyter.viewOutput'>log</a> do Jupyter para obter mais detalhes."
     ]
    }
   ],
   "source": [
    "data = np.random.randint(1, 100, size=10)\n",
    "print(\"ND array aleatorio\", data)\n",
    "print(\"Media\", np.mean(data))\n",
    "print(\"Desvio padrao:\", np.std(data))\n",
    "print(\"Valor maximo: \", np.max(data))\n",
    "print(\"INdice do valor maximo\", np.argmax(data))"
   ]
  },
  {
   "cell_type": "markdown",
   "id": "944e3062",
   "metadata": {},
   "source": [
    "### Indexacao Booleana e condicional em NDarray"
   ]
  },
  {
   "cell_type": "code",
   "execution_count": 52,
   "id": "c4829163",
   "metadata": {},
   "outputs": [
    {
     "name": "stdout",
     "output_type": "stream",
     "text": [
      "ARRAY:  [10 15 20 25 30]\n",
      "Valores maiores que 20: [25 30]\n",
      "Valores pares: [10 20 30]\n"
     ]
    }
   ],
   "source": [
    "array_  = np.array([10,15,20,25,30])\n",
    "print(\"ARRAY: \", array_)\n",
    "print(\"Valores maiores que 20:\", array_[array_ > 20])\n",
    "print(\"Valores pares:\", array_[array_ %2==0])"
   ]
  }
 ],
 "metadata": {
  "kernelspec": {
   "display_name": ".venv (3.13.3)",
   "language": "python",
   "name": "python3"
  },
  "language_info": {
   "codemirror_mode": {
    "name": "ipython",
    "version": 3
   },
   "file_extension": ".py",
   "mimetype": "text/x-python",
   "name": "python",
   "nbconvert_exporter": "python",
   "pygments_lexer": "ipython3",
   "version": "3.13.3"
  }
 },
 "nbformat": 4,
 "nbformat_minor": 5
}
