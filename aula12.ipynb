{
 "cells": [
  {
   "cell_type": "markdown",
   "id": "57eb9a9a",
   "metadata": {},
   "source": [
    "## Decoradores erros avancado"
   ]
  },
  {
   "cell_type": "code",
   "execution_count": 7,
   "id": "374cda45",
   "metadata": {},
   "outputs": [],
   "source": [
    "import time\n",
    "from functools import wraps"
   ]
  },
  {
   "cell_type": "code",
   "execution_count": 8,
   "id": "5b55d6ba",
   "metadata": {},
   "outputs": [],
   "source": [
    "def retry(retries=3,exceptions=(ValueError,), delay=0.1, backoff=1.0):\n",
    "    # validacao basica de parametro\n",
    "    if not isinstance(retries, int) or retries <1:\n",
    "        raise ValueError(\"Retries deve ser int e maior igual a 1\")\n",
    "    if not isinstance(delay, (int, float)) or delay <0:\n",
    "        raise ValueError(\"delay deve ser int ou float e >=0\")\n",
    "    if not isinstance(backoff, (int, float)) or backoff<1:\n",
    "        raise ValueError(\"o 'backoff' deve ser int ou float e >=1\")\n",
    "    if not isinstance(exceptions, tuple):\n",
    "        exceptions = (exceptions,)\n",
    "    for exc in exceptions:\n",
    "        if not (isinstance(exc, type) and issubclass(exc, BaseException)):\n",
    "            raise TypeError(\"Parametro: exceptions deve conter classes derivadas de BaseException\")\n",
    "    def decorador(func):\n",
    "        @wraps(func)\n",
    "        def wrapper(*args, **kwargs):\n",
    "            tentativa_atual = 1\n",
    "            atraso_atual = float(delay)\n",
    "            while True:\n",
    "                try:\n",
    "                    return func(*args, **kwargs)\n",
    "                except exceptions as err:\n",
    "                    if tentativa_atual >= retries:\n",
    "                        raise err\n",
    "                    nome_erro = type(err).__name__\n",
    "                    msg = str(err)\n",
    "                    print(f\"Tentativa {tentativa_atual} falhou: ({nome_erro}: {msg}), tentanto outra vez em {atraso_atual:.3f}s\")\n",
    "\n",
    "                    if atraso_atual>0:\n",
    "                        time.sleep(atraso_atual)\n",
    "                    tentativa_atual+=1\n",
    "                    atraso_atual*=backoff\n",
    "        return wrapper\n",
    "    return decorador"
   ]
  },
  {
   "cell_type": "code",
   "execution_count": 9,
   "id": "6e0b32c9",
   "metadata": {},
   "outputs": [
    {
     "name": "stdout",
     "output_type": "stream",
     "text": [
      "Tentativa 1 falhou: (ValueError: Deu ruim), tentanto outra vez em 0.100s\n",
      "Tentativa 2 falhou: (ValueError: Deu ruim), tentanto outra vez em 0.200s\n",
      "deu bom\n"
     ]
    }
   ],
   "source": [
    "contador_falhas = 0\n",
    "\n",
    "# O decorador tentara 3 vezes, aguardando 0,1s antes de tentar novamente. Caso tenha erro informado, ele informa para o codigo. O \"backoff\" eh a quantidade de tempo que ele ira incrementar \n",
    "@retry(retries=3,exceptions=(ValueError,), delay=0.1, backoff=2)\n",
    "def pode_falhar():\n",
    "    global contador_falhas\n",
    "    if contador_falhas<2:\n",
    "        contador_falhas+=1\n",
    "        raise ValueError(\"Deu ruim\")\n",
    "    return \"deu bom\"\n",
    "\n",
    "print(pode_falhar())"
   ]
  }
 ],
 "metadata": {
  "kernelspec": {
   "display_name": "base",
   "language": "python",
   "name": "python3"
  },
  "language_info": {
   "codemirror_mode": {
    "name": "ipython",
    "version": 3
   },
   "file_extension": ".py",
   "mimetype": "text/x-python",
   "name": "python",
   "nbconvert_exporter": "python",
   "pygments_lexer": "ipython3",
   "version": "3.13.5"
  }
 },
 "nbformat": 4,
 "nbformat_minor": 5
}
